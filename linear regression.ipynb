{
  "cells": [
    {
      "cell_type": "code",
      "execution_count": 3,
      "metadata": {
        "id": "hWv_X8Nt-YuS"
      },
      "outputs": [],
      "source": [
        "import pandas as pd"
      ]
    },
    {
      "cell_type": "code",
      "execution_count": null,
      "metadata": {
        "id": "rvkv3LiK-gIp"
      },
      "outputs": [],
      "source": [
        "numbers = [ 1,2,3,4,5,6,7,8, 9, 10]\n",
        "\n",
        "def customer(n):\n",
        "    if n % 3 == 0:\n",
        "        return False\n",
        "    if n% 2 == 0:\n",
        "        return n % 5 != 0\n",
        "    return n > 5\n",
        "filterNum = filter(lambda x: customer(x), numbers)\n",
        "result = list(filterNum)\n",
        "\n",
        "print(result)\n"
      ]
    }
  ],
  "metadata": {
    "colab": {
      "provenance": []
    },
    "kernelspec": {
      "display_name": "Python 3",
      "name": "python3"
    },
    "language_info": {
      "name": "python"
    }
  },
  "nbformat": 4,
  "nbformat_minor": 0
}
